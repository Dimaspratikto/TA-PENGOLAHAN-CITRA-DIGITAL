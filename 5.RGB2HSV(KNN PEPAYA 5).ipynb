{
 "cells": [
  {
   "cell_type": "markdown",
   "metadata": {},
   "source": [
    "# RGB TO HSV PADA PEPAYA 5"
   ]
  },
  {
   "cell_type": "markdown",
   "metadata": {},
   "source": [
    "DIMAS PRATIKTO\n",
    "06.2018.1.06958"
   ]
  },
  {
   "cell_type": "code",
   "execution_count": 11,
   "metadata": {},
   "outputs": [],
   "source": [
    "import cv2\n",
    "import pandas as pd\n",
    "import numpy as np\n",
    "from sklearn.neighbors import KNeighborsClassifier\n",
    "from sklearn import neighbors\n",
    "from sklearn.neighbors import NearestNeighbors\n",
    "from sklearn.neighbors import KNeighborsRegressor"
   ]
  },
  {
   "cell_type": "code",
   "execution_count": 12,
   "metadata": {},
   "outputs": [],
   "source": [
    "original = cv2. imread('pepaya 5.jpg')"
   ]
  },
  {
   "cell_type": "code",
   "execution_count": 13,
   "metadata": {},
   "outputs": [],
   "source": [
    "#Resize Gambar\n",
    "h, w = original.shape[:2]\n",
    "new_h, new_w= int(h/2), int(w/2)\n",
    "image= cv2.resize(original,(new_w, new_h))"
   ]
  },
  {
   "cell_type": "code",
   "execution_count": 14,
   "metadata": {},
   "outputs": [],
   "source": [
    "#Convert RGB KE HSV\n",
    "hsv= cv2.cvtColor(image, cv2.COLOR_RGB2HSV)"
   ]
  },
  {
   "cell_type": "code",
   "execution_count": 15,
   "metadata": {},
   "outputs": [
    {
     "name": "stdout",
     "output_type": "stream",
     "text": [
      "[[[160   8  93]\n",
      "  [160   8  90]\n",
      "  [160   9  86]\n",
      "  ...\n",
      "  [175  15 105]\n",
      "  [175  15 105]\n",
      "  [175  15 105]]\n",
      "\n",
      " [[160   8  91]\n",
      "  [160   9  89]\n",
      "  [160   9  87]\n",
      "  ...\n",
      "  [175  15 104]\n",
      "  [175  15 104]\n",
      "  [175  15 104]]\n",
      "\n",
      " [[160   9  89]\n",
      "  [160   9  89]\n",
      "  [160   9  89]\n",
      "  ...\n",
      "  [174  13 101]\n",
      "  [174  13 101]\n",
      "  [174  13 101]]\n",
      "\n",
      " ...\n",
      "\n",
      " [[109  89  23]\n",
      "  [109  93  22]\n",
      "  [109  97  21]\n",
      "  ...\n",
      "  [130 109  14]\n",
      "  [140 102  15]\n",
      "  [140 102  15]]\n",
      "\n",
      " [[109  85  24]\n",
      "  [109  89  23]\n",
      "  [109  89  23]\n",
      "  ...\n",
      "  [130  96  16]\n",
      "  [140 102  15]\n",
      "  [140 109  14]]\n",
      "\n",
      " [[109  85  24]\n",
      "  [109  85  24]\n",
      "  [109  89  23]\n",
      "  ...\n",
      "  [130  96  16]\n",
      "  [140  96  16]\n",
      "  [140 102  15]]]\n"
     ]
    }
   ],
   "source": [
    "#Print Nilai HSV\n",
    "print(hsv)"
   ]
  },
  {
   "cell_type": "code",
   "execution_count": 16,
   "metadata": {},
   "outputs": [],
   "source": [
    "#Menampilkan Gambar HSV\n",
    "cv2.imshow('Gambar HSV', hsv)"
   ]
  },
  {
   "cell_type": "code",
   "execution_count": 17,
   "metadata": {},
   "outputs": [],
   "source": [
    "#Menampilkan Gambar Tiap H,S,V\n",
    "cv2.imshow('H Channel', hsv[: ,: ,0])\n",
    "cv2.imshow('S Channel', hsv[: ,: ,1])\n",
    "cv2.imshow('V Channel', hsv[: ,: ,2])\n",
    "cv2.waitKey(0)\n",
    "cv2.destroyAllWindows()"
   ]
  },
  {
   "cell_type": "code",
   "execution_count": 18,
   "metadata": {
    "scrolled": true
   },
   "outputs": [
    {
     "name": "stdout",
     "output_type": "stream",
     "text": [
      "Nilai Rata-rata H : 107.64719403931515 S:  207.56261889663918 V:  147.19863665187063\n"
     ]
    }
   ],
   "source": [
    "#Memperoleh Nilai Rata-Rata Tiap H,S,V\n",
    "H = hsv[: ,: ,0]\n",
    "S = hsv[: ,: ,1]\n",
    "V = hsv[: ,: ,2]\n",
    "meanH = np.mean(H)\n",
    "meanH = float(meanH)\n",
    "meanS = np.mean(S)\n",
    "meanS = float(meanS)\n",
    "meanV = np.mean(V)\n",
    "meanV = float(meanV)\n",
    "print(\"Nilai Rata-rata H :\", meanH,\"S: \", meanS,\"V: \",meanV)"
   ]
  },
  {
   "cell_type": "markdown",
   "metadata": {},
   "source": [
    "# PENERAPAN KNN PADA DATASET DAN NILAI RATA-RATA"
   ]
  },
  {
   "cell_type": "code",
   "execution_count": 19,
   "metadata": {},
   "outputs": [],
   "source": [
    "#Dataset Csv \n",
    "data=pd.read_csv('datapepaya.csv')"
   ]
  },
  {
   "cell_type": "code",
   "execution_count": 20,
   "metadata": {},
   "outputs": [
    {
     "name": "stdout",
     "output_type": "stream",
     "text": [
      "Hasil Prediksi = 1.0\n",
      "Pepaya ini Matang\n"
     ]
    }
   ],
   "source": [
    "#Memasukkan Dataset Kedalam X & Y\n",
    "X = data[['Hmean','Smean','Vmean']]\n",
    "Y = data['Kematangan']\n",
    "#Prediksi Menggunakan KNN\n",
    "knn = KNeighborsRegressor(n_neighbors=3)\n",
    "knn.fit(X,Y)\n",
    "dataa = [meanH,meanS,meanV]\n",
    "hasilprediksi = knn.predict([dataa])\n",
    "hasilprediksi = float(hasilprediksi)\n",
    "print(\"Hasil Prediksi =\",hasilprediksi)\n",
    "#Hasil prediksi\n",
    "#Bila Hasil Prediksi Bernilai == 1(Pepaya Matang) & Bernilai == 0 (Pepaya Mentah)\n",
    "if hasilprediksi == 1:\n",
    "    print(\"Pepaya ini Matang\")\n",
    "elif hasilprediksi == 0:\n",
    "    print(\"Pepaya ini Mentah\")\n",
    "else:\n",
    "    print(\"Kematangan Tidak Di Prediksi\")"
   ]
  },
  {
   "cell_type": "code",
   "execution_count": null,
   "metadata": {},
   "outputs": [],
   "source": []
  }
 ],
 "metadata": {
  "kernelspec": {
   "display_name": "Python 3",
   "language": "python",
   "name": "python3"
  },
  "language_info": {
   "codemirror_mode": {
    "name": "ipython",
    "version": 3
   },
   "file_extension": ".py",
   "mimetype": "text/x-python",
   "name": "python",
   "nbconvert_exporter": "python",
   "pygments_lexer": "ipython3",
   "version": "3.8.5"
  }
 },
 "nbformat": 4,
 "nbformat_minor": 4
}
