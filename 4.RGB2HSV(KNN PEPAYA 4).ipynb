{
 "cells": [
  {
   "cell_type": "markdown",
   "metadata": {},
   "source": [
    "# RGB TO HSV PADA PEPAYA 4"
   ]
  },
  {
   "cell_type": "markdown",
   "metadata": {},
   "source": [
    "DIMAS PRATIKTO\n",
    "06.2018.1.06958"
   ]
  },
  {
   "cell_type": "code",
   "execution_count": 1,
   "metadata": {},
   "outputs": [],
   "source": [
    "import cv2\n",
    "import pandas as pd\n",
    "import numpy as np\n",
    "from sklearn.neighbors import KNeighborsClassifier\n",
    "from sklearn import neighbors\n",
    "from sklearn.neighbors import NearestNeighbors\n",
    "from sklearn.neighbors import KNeighborsRegressor"
   ]
  },
  {
   "cell_type": "code",
   "execution_count": 2,
   "metadata": {},
   "outputs": [],
   "source": [
    "original = cv2. imread('pepaya 4.jpeg')"
   ]
  },
  {
   "cell_type": "code",
   "execution_count": 3,
   "metadata": {},
   "outputs": [],
   "source": [
    "#Resize Gambar\n",
    "h, w = original.shape[:2]\n",
    "new_h, new_w= int(h/2), int(w/2)\n",
    "image= cv2.resize(original,(new_w, new_h))"
   ]
  },
  {
   "cell_type": "code",
   "execution_count": 4,
   "metadata": {},
   "outputs": [],
   "source": [
    "#Convert RGB KE HSV\n",
    "hsv= cv2.cvtColor(image, cv2.COLOR_RGB2HSV)"
   ]
  },
  {
   "cell_type": "code",
   "execution_count": 5,
   "metadata": {},
   "outputs": [
    {
     "name": "stdout",
     "output_type": "stream",
     "text": [
      "[[[ 11  20 100]\n",
      "  [ 11  22  94]\n",
      "  [ 11  23  90]\n",
      "  ...\n",
      "  [  6  16  78]\n",
      "  [  6  16  82]\n",
      "  [  6  14  88]]\n",
      "\n",
      " [[ 11  22  92]\n",
      "  [ 11  23  87]\n",
      "  [ 11  24  84]\n",
      "  ...\n",
      "  [  6  20  65]\n",
      "  [  6  21  61]\n",
      "  [  6  17  77]]\n",
      "\n",
      " [[ 17  21  87]\n",
      "  [ 17  21  84]\n",
      "  [ 17  21  84]\n",
      "  ...\n",
      "  [  6  15  86]\n",
      "  [  6  17  74]\n",
      "  [  6  16  78]]\n",
      "\n",
      " ...\n",
      "\n",
      " [[ 17  12 144]\n",
      "  [ 17  13 135]\n",
      "  [ 17  14 129]\n",
      "  ...\n",
      "  [135   3 147]\n",
      "  [135   4 138]\n",
      "  [135   4 135]]\n",
      "\n",
      " [[ 17  13 140]\n",
      "  [ 17  13 139]\n",
      "  [ 17  13 139]\n",
      "  ...\n",
      "  [135   3 146]\n",
      "  [135   4 141]\n",
      "  [135   4 142]]\n",
      "\n",
      " [[ 17  13 140]\n",
      "  [ 17  12 143]\n",
      "  [ 17  12 146]\n",
      "  ...\n",
      "  [135   4 144]\n",
      "  [135   4 138]\n",
      "  [135   4 139]]]\n"
     ]
    }
   ],
   "source": [
    "#Print Nilai HSV\n",
    "print(hsv)"
   ]
  },
  {
   "cell_type": "code",
   "execution_count": 6,
   "metadata": {},
   "outputs": [],
   "source": [
    "#Menampilkan Gambar HSV\n",
    "cv2.imshow('Gambar HSV', hsv)"
   ]
  },
  {
   "cell_type": "code",
   "execution_count": 7,
   "metadata": {},
   "outputs": [],
   "source": [
    "#Menampilkan Gambar Tiap H,S,V\n",
    "cv2.imshow('H Channel', hsv[: ,: ,0])\n",
    "cv2.imshow('S Channel', hsv[: ,: ,1])\n",
    "cv2.imshow('V Channel', hsv[: ,: ,2])\n",
    "cv2.waitKey(0)\n",
    "cv2.destroyAllWindows()"
   ]
  },
  {
   "cell_type": "code",
   "execution_count": 8,
   "metadata": {},
   "outputs": [
    {
     "name": "stdout",
     "output_type": "stream",
     "text": [
      "Nilai Rata-rata H : 65.78804382093317 S:  55.213043820933166 V:  126.16011191677175\n"
     ]
    }
   ],
   "source": [
    "#Memperoleh Nilai Rata-Rata Tiap H,S,V\n",
    "H = hsv[: ,: ,0]\n",
    "S = hsv[: ,: ,1]\n",
    "V = hsv[: ,: ,2]\n",
    "meanH = np.mean(H)\n",
    "meanH = float(meanH)\n",
    "meanS = np.mean(S)\n",
    "meanS = float(meanS)\n",
    "meanV = np.mean(V)\n",
    "meanV = float(meanV)\n",
    "print(\"Nilai Rata-rata H :\", meanH,\"S: \", meanS,\"V: \",meanV)"
   ]
  },
  {
   "cell_type": "markdown",
   "metadata": {},
   "source": [
    "# PENERAPAN KNN PADA DATASET DAN NILAI RATA-RATA"
   ]
  },
  {
   "cell_type": "code",
   "execution_count": 9,
   "metadata": {},
   "outputs": [],
   "source": [
    "#Dataset Csv \n",
    "data=pd.read_csv('datapepaya.csv')"
   ]
  },
  {
   "cell_type": "code",
   "execution_count": 10,
   "metadata": {},
   "outputs": [
    {
     "name": "stdout",
     "output_type": "stream",
     "text": [
      "Hasil Prediksi = 0.3333333333333333\n",
      "Kematangan Tidak Di Prediksi\n"
     ]
    }
   ],
   "source": [
    "#Memasukkan Dataset Kedalam X & Y\n",
    "X = data[['Hmean','Smean','Vmean']]\n",
    "Y = data['Kematangan']\n",
    "#Prediksi Menggunakan KNN\n",
    "knn = KNeighborsRegressor(n_neighbors=3)\n",
    "knn.fit(X,Y)\n",
    "dataa = [meanH,meanS,meanV]\n",
    "hasilprediksi = knn.predict([dataa])\n",
    "hasilprediksi = float(hasilprediksi)\n",
    "print(\"Hasil Prediksi =\",hasilprediksi)\n",
    "#Hasil prediksi\n",
    "#Bila Hasil Prediksi Bernilai == 1(Pepaya Matang) & Bernilai == 0 (Pepaya Mentah)\n",
    "if hasilprediksi == 1:\n",
    "    print(\"Pepaya ini Matang\")\n",
    "elif hasilprediksi == 0:\n",
    "    print(\"Pepaya ini Mentah\")\n",
    "else:\n",
    "    print(\"Kematangan Tidak Di Prediksi\")"
   ]
  },
  {
   "cell_type": "code",
   "execution_count": null,
   "metadata": {},
   "outputs": [],
   "source": []
  }
 ],
 "metadata": {
  "kernelspec": {
   "display_name": "Python 3",
   "language": "python",
   "name": "python3"
  },
  "language_info": {
   "codemirror_mode": {
    "name": "ipython",
    "version": 3
   },
   "file_extension": ".py",
   "mimetype": "text/x-python",
   "name": "python",
   "nbconvert_exporter": "python",
   "pygments_lexer": "ipython3",
   "version": "3.8.5"
  }
 },
 "nbformat": 4,
 "nbformat_minor": 4
}
