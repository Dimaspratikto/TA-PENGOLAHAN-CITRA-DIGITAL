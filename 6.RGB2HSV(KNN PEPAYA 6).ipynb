{
 "cells": [
  {
   "cell_type": "markdown",
   "metadata": {},
   "source": [
    "# RGB TO HSV PADA PEPAYA 6"
   ]
  },
  {
   "cell_type": "markdown",
   "metadata": {},
   "source": [
    "DIMAS PRATIKTO\n",
    "06.2018.1.06958"
   ]
  },
  {
   "cell_type": "code",
   "execution_count": 1,
   "metadata": {},
   "outputs": [],
   "source": [
    "import cv2\n",
    "import pandas as pd\n",
    "import numpy as np\n",
    "from sklearn.neighbors import KNeighborsClassifier\n",
    "from sklearn import neighbors\n",
    "from sklearn.neighbors import NearestNeighbors\n",
    "from sklearn.neighbors import KNeighborsRegressor"
   ]
  },
  {
   "cell_type": "code",
   "execution_count": 2,
   "metadata": {},
   "outputs": [],
   "source": [
    "original = cv2. imread('pepaya 6.jpg')"
   ]
  },
  {
   "cell_type": "code",
   "execution_count": 3,
   "metadata": {},
   "outputs": [],
   "source": [
    "#Resize Gambar\n",
    "h, w = original.shape[:2]\n",
    "new_h, new_w= int(h/2), int(w/2)\n",
    "image= cv2.resize(original,(new_w, new_h))"
   ]
  },
  {
   "cell_type": "code",
   "execution_count": 4,
   "metadata": {},
   "outputs": [],
   "source": [
    "#Convert RGB KE HSV\n",
    "hsv= cv2.cvtColor(image, cv2.COLOR_RGB2HSV)"
   ]
  },
  {
   "cell_type": "code",
   "execution_count": 5,
   "metadata": {},
   "outputs": [
    {
     "name": "stdout",
     "output_type": "stream",
     "text": [
      "[[[ 25 121 120]\n",
      "  [ 25 122 121]\n",
      "  [ 25 129 121]\n",
      "  ...\n",
      "  [ 28  30 143]\n",
      "  [ 60   7 145]\n",
      "  [ 94  12 143]]\n",
      "\n",
      " [[ 25 122 119]\n",
      "  [ 25 118 123]\n",
      "  [ 24 122 123]\n",
      "  ...\n",
      "  [ 33  15 150]\n",
      "  [ 68   7 148]\n",
      "  [ 79  14 145]]\n",
      "\n",
      " [[ 25 119 122]\n",
      "  [ 25 119 122]\n",
      "  [ 23 121 122]\n",
      "  ...\n",
      "  [ 80   5 145]\n",
      "  [ 84   9 141]\n",
      "  [ 69  12 147]]\n",
      "\n",
      " ...\n",
      "\n",
      " [[ 31  56 160]\n",
      "  [ 33  60 158]\n",
      "  [ 34  70 146]\n",
      "  ...\n",
      "  [ 50  14 160]\n",
      "  [ 86  13 157]\n",
      "  [ 93  19 158]]\n",
      "\n",
      " [[ 28  60 156]\n",
      "  [ 30  60 152]\n",
      "  [ 30  64 147]\n",
      "  ...\n",
      "  [ 73  20 155]\n",
      "  [ 88  20 156]\n",
      "  [ 96  23 156]]\n",
      "\n",
      " [[ 28  64 147]\n",
      "  [ 30  65 141]\n",
      "  [ 31  67 145]\n",
      "  ...\n",
      "  [ 76  18 158]\n",
      "  [ 87  18 157]\n",
      "  [ 96  25 156]]]\n"
     ]
    }
   ],
   "source": [
    "#Print Nilai HSV\n",
    "print(hsv)"
   ]
  },
  {
   "cell_type": "code",
   "execution_count": 6,
   "metadata": {},
   "outputs": [],
   "source": [
    "#Menampilkan Gambar HSV\n",
    "cv2.imshow('Gambar HSV', hsv)"
   ]
  },
  {
   "cell_type": "code",
   "execution_count": 7,
   "metadata": {},
   "outputs": [],
   "source": [
    "#Menampilkan Gambar Tiap H,S,V\n",
    "cv2.imshow('H Channel', hsv[: ,: ,0])\n",
    "cv2.imshow('S Channel', hsv[: ,: ,1])\n",
    "cv2.imshow('V Channel', hsv[: ,: ,2])\n",
    "cv2.waitKey(0)\n",
    "cv2.destroyAllWindows()"
   ]
  },
  {
   "cell_type": "code",
   "execution_count": 8,
   "metadata": {
    "scrolled": true
   },
   "outputs": [
    {
     "name": "stdout",
     "output_type": "stream",
     "text": [
      "Nilai Rata-rata H : 89.28606666666667 S:  162.51493333333335 V:  165.20206666666667\n"
     ]
    }
   ],
   "source": [
    "#Memperoleh Nilai Rata-Rata Tiap H,S,V\n",
    "H = hsv[: ,: ,0]\n",
    "S = hsv[: ,: ,1]\n",
    "V = hsv[: ,: ,2]\n",
    "meanH = np.mean(H)\n",
    "meanH = float(meanH)\n",
    "meanS = np.mean(S)\n",
    "meanS = float(meanS)\n",
    "meanV = np.mean(V)\n",
    "meanV = float(meanV)\n",
    "print(\"Nilai Rata-rata H :\", meanH,\"S: \", meanS,\"V: \",meanV)"
   ]
  },
  {
   "cell_type": "markdown",
   "metadata": {},
   "source": [
    "# PENERAPAN KNN PADA DATASET DAN NILAI RATA-RATA"
   ]
  },
  {
   "cell_type": "code",
   "execution_count": 9,
   "metadata": {},
   "outputs": [],
   "source": [
    "#Dataset Csv \n",
    "data=pd.read_csv('datapepaya.csv')"
   ]
  },
  {
   "cell_type": "code",
   "execution_count": 10,
   "metadata": {},
   "outputs": [
    {
     "name": "stdout",
     "output_type": "stream",
     "text": [
      "Hasil Prediksi = 1.0\n",
      "Pepaya ini Matang\n"
     ]
    }
   ],
   "source": [
    "#Memasukkan Dataset Kedalam X & Y\n",
    "X = data[['Hmean','Smean','Vmean']]\n",
    "Y = data['Kematangan']\n",
    "#Prediksi Menggunakan KNN\n",
    "knn = KNeighborsRegressor(n_neighbors=3)\n",
    "knn.fit(X,Y)\n",
    "dataa = [meanH,meanS,meanV]\n",
    "hasilprediksi = knn.predict([dataa])\n",
    "hasilprediksi = float(hasilprediksi)\n",
    "print(\"Hasil Prediksi =\",hasilprediksi)\n",
    "#Hasil prediksi\n",
    "#Bila Hasil Prediksi Bernilai == 1(Pepaya Matang) & Bernilai == 0 (Pepaya Mentah)\n",
    "if hasilprediksi == 1:\n",
    "    print(\"Pepaya ini Matang\")\n",
    "elif hasilprediksi == 0:\n",
    "    print(\"Pepaya ini Mentah\")\n",
    "else:\n",
    "    print(\"Kematangan Tidak Di Prediksi\")"
   ]
  },
  {
   "cell_type": "code",
   "execution_count": null,
   "metadata": {},
   "outputs": [],
   "source": []
  }
 ],
 "metadata": {
  "kernelspec": {
   "display_name": "Python 3",
   "language": "python",
   "name": "python3"
  },
  "language_info": {
   "codemirror_mode": {
    "name": "ipython",
    "version": 3
   },
   "file_extension": ".py",
   "mimetype": "text/x-python",
   "name": "python",
   "nbconvert_exporter": "python",
   "pygments_lexer": "ipython3",
   "version": "3.8.5"
  }
 },
 "nbformat": 4,
 "nbformat_minor": 4
}
